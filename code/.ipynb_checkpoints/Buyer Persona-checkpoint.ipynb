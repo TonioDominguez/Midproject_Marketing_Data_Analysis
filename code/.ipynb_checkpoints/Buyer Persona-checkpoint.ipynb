{
 "cells": [
  {
   "cell_type": "markdown",
   "id": "ce588145",
   "metadata": {},
   "source": [
    "<h1 style=\"color: #AA1358;\">BUYER PERSONAS</h1>"
   ]
  },
  {
   "cell_type": "markdown",
   "id": "3e357005",
   "metadata": {},
   "source": [
    "<h2 style=\"color: #A4064D;\">Libraries</h2>"
   ]
  },
  {
   "cell_type": "code",
   "execution_count": 1,
   "id": "bd0a9e14",
   "metadata": {},
   "outputs": [],
   "source": [
    "## Basic libraries\n",
    "import pandas as pd # data manipulation\n",
    "import numpy as np # funciones matemáticas\n",
    "\n",
    "## EDA Libraries \n",
    "import matplotlib.pyplot as plt\n",
    "import seaborn as sns\n",
    "\n",
    "## Settings\n",
    "pd.set_option('display.max_columns', None) # display all columns\n",
    "import warnings\n",
    "warnings.filterwarnings('ignore') # ignore warnings"
   ]
  },
  {
   "cell_type": "markdown",
   "id": "056afb61",
   "metadata": {},
   "source": [
    "<h2 style=\"color: #A4064D;\">Importing CSV</h2>"
   ]
  },
  {
   "cell_type": "code",
   "execution_count": 2,
   "id": "45eeee80",
   "metadata": {},
   "outputs": [
    {
     "data": {
      "text/html": [
       "<div>\n",
       "<style scoped>\n",
       "    .dataframe tbody tr th:only-of-type {\n",
       "        vertical-align: middle;\n",
       "    }\n",
       "\n",
       "    .dataframe tbody tr th {\n",
       "        vertical-align: top;\n",
       "    }\n",
       "\n",
       "    .dataframe thead th {\n",
       "        text-align: right;\n",
       "    }\n",
       "</style>\n",
       "<table border=\"1\" class=\"dataframe\">\n",
       "  <thead>\n",
       "    <tr style=\"text-align: right;\">\n",
       "      <th></th>\n",
       "      <th>id</th>\n",
       "      <th>age</th>\n",
       "      <th>age_group</th>\n",
       "      <th>education</th>\n",
       "      <th>marital_status</th>\n",
       "      <th>income</th>\n",
       "      <th>childrenhome</th>\n",
       "      <th>dt_customer</th>\n",
       "      <th>recency</th>\n",
       "      <th>wine_products</th>\n",
       "      <th>fruit_products</th>\n",
       "      <th>meat_products</th>\n",
       "      <th>fish_products</th>\n",
       "      <th>sweet_products</th>\n",
       "      <th>gold_products</th>\n",
       "      <th>total_products</th>\n",
       "      <th>buyer_type</th>\n",
       "      <th>deal_purchases</th>\n",
       "      <th>web_purchases</th>\n",
       "      <th>catalog_purchases</th>\n",
       "      <th>store_purchases</th>\n",
       "      <th>total_purchases</th>\n",
       "      <th>web_visits_permonth</th>\n",
       "      <th>acceptedcmp3</th>\n",
       "      <th>acceptedcmp4</th>\n",
       "      <th>acceptedcmp5</th>\n",
       "      <th>acceptedcmp1</th>\n",
       "      <th>acceptedcmp2</th>\n",
       "      <th>total_cmp</th>\n",
       "      <th>complain</th>\n",
       "      <th>response</th>\n",
       "    </tr>\n",
       "  </thead>\n",
       "  <tbody>\n",
       "    <tr>\n",
       "      <th>0</th>\n",
       "      <td>5524</td>\n",
       "      <td>67</td>\n",
       "      <td>Senior</td>\n",
       "      <td>Graduation</td>\n",
       "      <td>Single</td>\n",
       "      <td>58138.0</td>\n",
       "      <td>0</td>\n",
       "      <td>2012-09-04</td>\n",
       "      <td>58</td>\n",
       "      <td>635</td>\n",
       "      <td>88</td>\n",
       "      <td>546</td>\n",
       "      <td>172</td>\n",
       "      <td>88</td>\n",
       "      <td>88</td>\n",
       "      <td>1617</td>\n",
       "      <td>VIP</td>\n",
       "      <td>3</td>\n",
       "      <td>8</td>\n",
       "      <td>10</td>\n",
       "      <td>4</td>\n",
       "      <td>22</td>\n",
       "      <td>7</td>\n",
       "      <td>0</td>\n",
       "      <td>0</td>\n",
       "      <td>0</td>\n",
       "      <td>0</td>\n",
       "      <td>0</td>\n",
       "      <td>0</td>\n",
       "      <td>0</td>\n",
       "      <td>1</td>\n",
       "    </tr>\n",
       "    <tr>\n",
       "      <th>1</th>\n",
       "      <td>2174</td>\n",
       "      <td>70</td>\n",
       "      <td>Senior</td>\n",
       "      <td>Graduation</td>\n",
       "      <td>Single</td>\n",
       "      <td>46344.0</td>\n",
       "      <td>2</td>\n",
       "      <td>2014-03-08</td>\n",
       "      <td>38</td>\n",
       "      <td>11</td>\n",
       "      <td>1</td>\n",
       "      <td>6</td>\n",
       "      <td>2</td>\n",
       "      <td>1</td>\n",
       "      <td>6</td>\n",
       "      <td>27</td>\n",
       "      <td>Low</td>\n",
       "      <td>2</td>\n",
       "      <td>1</td>\n",
       "      <td>1</td>\n",
       "      <td>2</td>\n",
       "      <td>4</td>\n",
       "      <td>5</td>\n",
       "      <td>0</td>\n",
       "      <td>0</td>\n",
       "      <td>0</td>\n",
       "      <td>0</td>\n",
       "      <td>0</td>\n",
       "      <td>0</td>\n",
       "      <td>0</td>\n",
       "      <td>0</td>\n",
       "    </tr>\n",
       "    <tr>\n",
       "      <th>2</th>\n",
       "      <td>4141</td>\n",
       "      <td>59</td>\n",
       "      <td>Middle-Age</td>\n",
       "      <td>Graduation</td>\n",
       "      <td>Together</td>\n",
       "      <td>71613.0</td>\n",
       "      <td>0</td>\n",
       "      <td>2013-08-21</td>\n",
       "      <td>26</td>\n",
       "      <td>426</td>\n",
       "      <td>49</td>\n",
       "      <td>127</td>\n",
       "      <td>111</td>\n",
       "      <td>21</td>\n",
       "      <td>42</td>\n",
       "      <td>776</td>\n",
       "      <td>Good</td>\n",
       "      <td>1</td>\n",
       "      <td>8</td>\n",
       "      <td>2</td>\n",
       "      <td>10</td>\n",
       "      <td>20</td>\n",
       "      <td>4</td>\n",
       "      <td>0</td>\n",
       "      <td>0</td>\n",
       "      <td>0</td>\n",
       "      <td>0</td>\n",
       "      <td>0</td>\n",
       "      <td>0</td>\n",
       "      <td>0</td>\n",
       "      <td>0</td>\n",
       "    </tr>\n",
       "    <tr>\n",
       "      <th>3</th>\n",
       "      <td>6182</td>\n",
       "      <td>40</td>\n",
       "      <td>Adult</td>\n",
       "      <td>Graduation</td>\n",
       "      <td>Together</td>\n",
       "      <td>26646.0</td>\n",
       "      <td>1</td>\n",
       "      <td>2014-02-10</td>\n",
       "      <td>26</td>\n",
       "      <td>11</td>\n",
       "      <td>4</td>\n",
       "      <td>20</td>\n",
       "      <td>10</td>\n",
       "      <td>3</td>\n",
       "      <td>5</td>\n",
       "      <td>53</td>\n",
       "      <td>Low</td>\n",
       "      <td>2</td>\n",
       "      <td>2</td>\n",
       "      <td>0</td>\n",
       "      <td>4</td>\n",
       "      <td>6</td>\n",
       "      <td>6</td>\n",
       "      <td>0</td>\n",
       "      <td>0</td>\n",
       "      <td>0</td>\n",
       "      <td>0</td>\n",
       "      <td>0</td>\n",
       "      <td>0</td>\n",
       "      <td>0</td>\n",
       "      <td>0</td>\n",
       "    </tr>\n",
       "    <tr>\n",
       "      <th>4</th>\n",
       "      <td>5324</td>\n",
       "      <td>43</td>\n",
       "      <td>Adult</td>\n",
       "      <td>PhD</td>\n",
       "      <td>Married</td>\n",
       "      <td>58293.0</td>\n",
       "      <td>1</td>\n",
       "      <td>2014-01-19</td>\n",
       "      <td>94</td>\n",
       "      <td>173</td>\n",
       "      <td>43</td>\n",
       "      <td>118</td>\n",
       "      <td>46</td>\n",
       "      <td>27</td>\n",
       "      <td>15</td>\n",
       "      <td>422</td>\n",
       "      <td>Good</td>\n",
       "      <td>5</td>\n",
       "      <td>5</td>\n",
       "      <td>3</td>\n",
       "      <td>6</td>\n",
       "      <td>14</td>\n",
       "      <td>5</td>\n",
       "      <td>0</td>\n",
       "      <td>0</td>\n",
       "      <td>0</td>\n",
       "      <td>0</td>\n",
       "      <td>0</td>\n",
       "      <td>0</td>\n",
       "      <td>0</td>\n",
       "      <td>0</td>\n",
       "    </tr>\n",
       "    <tr>\n",
       "      <th>...</th>\n",
       "      <td>...</td>\n",
       "      <td>...</td>\n",
       "      <td>...</td>\n",
       "      <td>...</td>\n",
       "      <td>...</td>\n",
       "      <td>...</td>\n",
       "      <td>...</td>\n",
       "      <td>...</td>\n",
       "      <td>...</td>\n",
       "      <td>...</td>\n",
       "      <td>...</td>\n",
       "      <td>...</td>\n",
       "      <td>...</td>\n",
       "      <td>...</td>\n",
       "      <td>...</td>\n",
       "      <td>...</td>\n",
       "      <td>...</td>\n",
       "      <td>...</td>\n",
       "      <td>...</td>\n",
       "      <td>...</td>\n",
       "      <td>...</td>\n",
       "      <td>...</td>\n",
       "      <td>...</td>\n",
       "      <td>...</td>\n",
       "      <td>...</td>\n",
       "      <td>...</td>\n",
       "      <td>...</td>\n",
       "      <td>...</td>\n",
       "      <td>...</td>\n",
       "      <td>...</td>\n",
       "      <td>...</td>\n",
       "    </tr>\n",
       "    <tr>\n",
       "      <th>2235</th>\n",
       "      <td>10870</td>\n",
       "      <td>57</td>\n",
       "      <td>Middle-Age</td>\n",
       "      <td>Graduation</td>\n",
       "      <td>Married</td>\n",
       "      <td>61223.0</td>\n",
       "      <td>1</td>\n",
       "      <td>2013-06-13</td>\n",
       "      <td>46</td>\n",
       "      <td>709</td>\n",
       "      <td>43</td>\n",
       "      <td>182</td>\n",
       "      <td>42</td>\n",
       "      <td>118</td>\n",
       "      <td>247</td>\n",
       "      <td>1341</td>\n",
       "      <td>VIP</td>\n",
       "      <td>2</td>\n",
       "      <td>9</td>\n",
       "      <td>3</td>\n",
       "      <td>4</td>\n",
       "      <td>16</td>\n",
       "      <td>5</td>\n",
       "      <td>0</td>\n",
       "      <td>0</td>\n",
       "      <td>0</td>\n",
       "      <td>0</td>\n",
       "      <td>0</td>\n",
       "      <td>0</td>\n",
       "      <td>0</td>\n",
       "      <td>0</td>\n",
       "    </tr>\n",
       "    <tr>\n",
       "      <th>2236</th>\n",
       "      <td>4001</td>\n",
       "      <td>78</td>\n",
       "      <td>Senior</td>\n",
       "      <td>PhD</td>\n",
       "      <td>Together</td>\n",
       "      <td>64014.0</td>\n",
       "      <td>3</td>\n",
       "      <td>2014-06-10</td>\n",
       "      <td>56</td>\n",
       "      <td>406</td>\n",
       "      <td>0</td>\n",
       "      <td>30</td>\n",
       "      <td>0</td>\n",
       "      <td>0</td>\n",
       "      <td>8</td>\n",
       "      <td>444</td>\n",
       "      <td>Good</td>\n",
       "      <td>7</td>\n",
       "      <td>8</td>\n",
       "      <td>2</td>\n",
       "      <td>5</td>\n",
       "      <td>15</td>\n",
       "      <td>7</td>\n",
       "      <td>0</td>\n",
       "      <td>0</td>\n",
       "      <td>0</td>\n",
       "      <td>1</td>\n",
       "      <td>0</td>\n",
       "      <td>1</td>\n",
       "      <td>0</td>\n",
       "      <td>0</td>\n",
       "    </tr>\n",
       "    <tr>\n",
       "      <th>2237</th>\n",
       "      <td>7270</td>\n",
       "      <td>43</td>\n",
       "      <td>Adult</td>\n",
       "      <td>Graduation</td>\n",
       "      <td>Divorced</td>\n",
       "      <td>56981.0</td>\n",
       "      <td>0</td>\n",
       "      <td>2014-01-25</td>\n",
       "      <td>91</td>\n",
       "      <td>908</td>\n",
       "      <td>48</td>\n",
       "      <td>217</td>\n",
       "      <td>32</td>\n",
       "      <td>12</td>\n",
       "      <td>24</td>\n",
       "      <td>1241</td>\n",
       "      <td>VIP</td>\n",
       "      <td>1</td>\n",
       "      <td>2</td>\n",
       "      <td>3</td>\n",
       "      <td>13</td>\n",
       "      <td>18</td>\n",
       "      <td>6</td>\n",
       "      <td>0</td>\n",
       "      <td>1</td>\n",
       "      <td>0</td>\n",
       "      <td>0</td>\n",
       "      <td>0</td>\n",
       "      <td>1</td>\n",
       "      <td>0</td>\n",
       "      <td>0</td>\n",
       "    </tr>\n",
       "    <tr>\n",
       "      <th>2238</th>\n",
       "      <td>8235</td>\n",
       "      <td>68</td>\n",
       "      <td>Senior</td>\n",
       "      <td>Master</td>\n",
       "      <td>Together</td>\n",
       "      <td>69245.0</td>\n",
       "      <td>1</td>\n",
       "      <td>2014-01-24</td>\n",
       "      <td>8</td>\n",
       "      <td>428</td>\n",
       "      <td>30</td>\n",
       "      <td>214</td>\n",
       "      <td>80</td>\n",
       "      <td>30</td>\n",
       "      <td>61</td>\n",
       "      <td>843</td>\n",
       "      <td>Good</td>\n",
       "      <td>2</td>\n",
       "      <td>6</td>\n",
       "      <td>5</td>\n",
       "      <td>10</td>\n",
       "      <td>21</td>\n",
       "      <td>3</td>\n",
       "      <td>0</td>\n",
       "      <td>0</td>\n",
       "      <td>0</td>\n",
       "      <td>0</td>\n",
       "      <td>0</td>\n",
       "      <td>0</td>\n",
       "      <td>0</td>\n",
       "      <td>0</td>\n",
       "    </tr>\n",
       "    <tr>\n",
       "      <th>2239</th>\n",
       "      <td>9405</td>\n",
       "      <td>70</td>\n",
       "      <td>Senior</td>\n",
       "      <td>PhD</td>\n",
       "      <td>Married</td>\n",
       "      <td>52869.0</td>\n",
       "      <td>2</td>\n",
       "      <td>2012-10-15</td>\n",
       "      <td>40</td>\n",
       "      <td>84</td>\n",
       "      <td>3</td>\n",
       "      <td>61</td>\n",
       "      <td>2</td>\n",
       "      <td>1</td>\n",
       "      <td>21</td>\n",
       "      <td>172</td>\n",
       "      <td>Regular</td>\n",
       "      <td>3</td>\n",
       "      <td>3</td>\n",
       "      <td>1</td>\n",
       "      <td>4</td>\n",
       "      <td>8</td>\n",
       "      <td>7</td>\n",
       "      <td>0</td>\n",
       "      <td>0</td>\n",
       "      <td>0</td>\n",
       "      <td>0</td>\n",
       "      <td>0</td>\n",
       "      <td>0</td>\n",
       "      <td>0</td>\n",
       "      <td>1</td>\n",
       "    </tr>\n",
       "  </tbody>\n",
       "</table>\n",
       "<p>2225 rows × 31 columns</p>\n",
       "</div>"
      ],
      "text/plain": [
       "         id  age   age_group   education marital_status   income  \\\n",
       "0      5524   67      Senior  Graduation         Single  58138.0   \n",
       "1      2174   70      Senior  Graduation         Single  46344.0   \n",
       "2      4141   59  Middle-Age  Graduation       Together  71613.0   \n",
       "3      6182   40       Adult  Graduation       Together  26646.0   \n",
       "4      5324   43       Adult         PhD        Married  58293.0   \n",
       "...     ...  ...         ...         ...            ...      ...   \n",
       "2235  10870   57  Middle-Age  Graduation        Married  61223.0   \n",
       "2236   4001   78      Senior         PhD       Together  64014.0   \n",
       "2237   7270   43       Adult  Graduation       Divorced  56981.0   \n",
       "2238   8235   68      Senior      Master       Together  69245.0   \n",
       "2239   9405   70      Senior         PhD        Married  52869.0   \n",
       "\n",
       "      childrenhome dt_customer  recency  wine_products  fruit_products  \\\n",
       "0                0  2012-09-04       58            635              88   \n",
       "1                2  2014-03-08       38             11               1   \n",
       "2                0  2013-08-21       26            426              49   \n",
       "3                1  2014-02-10       26             11               4   \n",
       "4                1  2014-01-19       94            173              43   \n",
       "...            ...         ...      ...            ...             ...   \n",
       "2235             1  2013-06-13       46            709              43   \n",
       "2236             3  2014-06-10       56            406               0   \n",
       "2237             0  2014-01-25       91            908              48   \n",
       "2238             1  2014-01-24        8            428              30   \n",
       "2239             2  2012-10-15       40             84               3   \n",
       "\n",
       "      meat_products  fish_products  sweet_products  gold_products  \\\n",
       "0               546            172              88             88   \n",
       "1                 6              2               1              6   \n",
       "2               127            111              21             42   \n",
       "3                20             10               3              5   \n",
       "4               118             46              27             15   \n",
       "...             ...            ...             ...            ...   \n",
       "2235            182             42             118            247   \n",
       "2236             30              0               0              8   \n",
       "2237            217             32              12             24   \n",
       "2238            214             80              30             61   \n",
       "2239             61              2               1             21   \n",
       "\n",
       "      total_products buyer_type  deal_purchases  web_purchases  \\\n",
       "0               1617        VIP               3              8   \n",
       "1                 27        Low               2              1   \n",
       "2                776       Good               1              8   \n",
       "3                 53        Low               2              2   \n",
       "4                422       Good               5              5   \n",
       "...              ...        ...             ...            ...   \n",
       "2235            1341        VIP               2              9   \n",
       "2236             444       Good               7              8   \n",
       "2237            1241        VIP               1              2   \n",
       "2238             843       Good               2              6   \n",
       "2239             172    Regular               3              3   \n",
       "\n",
       "      catalog_purchases  store_purchases  total_purchases  \\\n",
       "0                    10                4               22   \n",
       "1                     1                2                4   \n",
       "2                     2               10               20   \n",
       "3                     0                4                6   \n",
       "4                     3                6               14   \n",
       "...                 ...              ...              ...   \n",
       "2235                  3                4               16   \n",
       "2236                  2                5               15   \n",
       "2237                  3               13               18   \n",
       "2238                  5               10               21   \n",
       "2239                  1                4                8   \n",
       "\n",
       "      web_visits_permonth  acceptedcmp3  acceptedcmp4  acceptedcmp5  \\\n",
       "0                       7             0             0             0   \n",
       "1                       5             0             0             0   \n",
       "2                       4             0             0             0   \n",
       "3                       6             0             0             0   \n",
       "4                       5             0             0             0   \n",
       "...                   ...           ...           ...           ...   \n",
       "2235                    5             0             0             0   \n",
       "2236                    7             0             0             0   \n",
       "2237                    6             0             1             0   \n",
       "2238                    3             0             0             0   \n",
       "2239                    7             0             0             0   \n",
       "\n",
       "      acceptedcmp1  acceptedcmp2  total_cmp  complain  response  \n",
       "0                0             0          0         0         1  \n",
       "1                0             0          0         0         0  \n",
       "2                0             0          0         0         0  \n",
       "3                0             0          0         0         0  \n",
       "4                0             0          0         0         0  \n",
       "...            ...           ...        ...       ...       ...  \n",
       "2235             0             0          0         0         0  \n",
       "2236             1             0          1         0         0  \n",
       "2237             0             0          1         0         0  \n",
       "2238             0             0          0         0         0  \n",
       "2239             0             0          0         0         1  \n",
       "\n",
       "[2225 rows x 31 columns]"
      ]
     },
     "execution_count": 2,
     "metadata": {},
     "output_type": "execute_result"
    }
   ],
   "source": [
    "data = pd.read_csv(\"for_buyer_persona.csv\", index_col=\"Unnamed: 0\")\n",
    "df = data.copy()\n",
    "df"
   ]
  },
  {
   "cell_type": "markdown",
   "id": "0943451b",
   "metadata": {},
   "source": [
    "<h2 style=\"color: #A4064D;\">Regrouping Variables</h2>"
   ]
  },
  {
   "cell_type": "code",
   "execution_count": 3,
   "id": "a55abe00",
   "metadata": {},
   "outputs": [],
   "source": [
    "# To increase the sample of each category in some variables we will regroup less segmented categories."
   ]
  },
  {
   "cell_type": "code",
   "execution_count": 4,
   "id": "705248c3",
   "metadata": {},
   "outputs": [],
   "source": [
    "df[\"education\"].replace(\"PhD\", \"Post-Graduation\", inplace=True)\n",
    "df[\"education\"].replace(\"Master\", \"Post-Graduation\", inplace=True)\n",
    "df[\"education\"].replace(\"2n Cycle\", \"Under-Graduation\", inplace=True)\n",
    "df[\"education\"].replace(\"Basic\", \"Under-Graduation\", inplace=True)"
   ]
  },
  {
   "cell_type": "code",
   "execution_count": 5,
   "id": "96213e74",
   "metadata": {},
   "outputs": [
    {
     "data": {
      "text/plain": [
       "education\n",
       "Graduation          1123\n",
       "Post-Graduation      847\n",
       "Under-Graduation     255\n",
       "Name: count, dtype: int64"
      ]
     },
     "execution_count": 5,
     "metadata": {},
     "output_type": "execute_result"
    }
   ],
   "source": [
    "df.education.value_counts()"
   ]
  },
  {
   "cell_type": "code",
   "execution_count": 7,
   "id": "ff0a63e3",
   "metadata": {},
   "outputs": [],
   "source": [
    "df[\"marital_status\"].replace(\"Married\", \"In_a_couple\", inplace=True)\n",
    "df[\"marital_status\"].replace(\"Together\", \"In_a_couple\", inplace=True)\n",
    "df[\"marital_status\"].replace(\"Divorced\", \"Single\", inplace=True)\n",
    "df[\"marital_status\"].replace(\"Widow\", \"Single\", inplace=True)"
   ]
  },
  {
   "cell_type": "code",
   "execution_count": 8,
   "id": "e3c971e8",
   "metadata": {},
   "outputs": [
    {
     "data": {
      "text/plain": [
       "marital_status\n",
       "In_a_couple    1436\n",
       "Single          789\n",
       "Name: count, dtype: int64"
      ]
     },
     "execution_count": 8,
     "metadata": {},
     "output_type": "execute_result"
    }
   ],
   "source": [
    "df.marital_status.value_counts()"
   ]
  },
  {
   "cell_type": "markdown",
   "id": "2cf7a380",
   "metadata": {},
   "source": [
    "<h2 style=\"color: #A4064D;\">Most Frequent Customer Profiles</h2>\n"
   ]
  },
  {
   "cell_type": "markdown",
   "id": "bde81e75",
   "metadata": {},
   "source": [
    "<h3 style=\"color: #6D183F;\">Group Age / Education / Marital Status => MOST FREQUENT CUSTOMERS</h3>"
   ]
  },
  {
   "cell_type": "code",
   "execution_count": 9,
   "id": "ca301689",
   "metadata": {},
   "outputs": [],
   "source": [
    "# As we did it at EDA Notebook, we get the most frequent customers by age, marital status and education\n",
    "\n",
    "age_mar_edu = df['age_group'] + \" \" + df['marital_status'] + \" \" + df[\"education\"]\n",
    "age_mar_edu = age_mar_edu.value_counts().reset_index()"
   ]
  },
  {
   "cell_type": "code",
   "execution_count": 10,
   "id": "f7c44af9",
   "metadata": {},
   "outputs": [],
   "source": [
    "top_age_mar_edu = age_mar_edu.head(5)"
   ]
  },
  {
   "cell_type": "code",
   "execution_count": 11,
   "id": "3a92df27",
   "metadata": {},
   "outputs": [
    {
     "data": {
      "text/html": [
       "<div>\n",
       "<style scoped>\n",
       "    .dataframe tbody tr th:only-of-type {\n",
       "        vertical-align: middle;\n",
       "    }\n",
       "\n",
       "    .dataframe tbody tr th {\n",
       "        vertical-align: top;\n",
       "    }\n",
       "\n",
       "    .dataframe thead th {\n",
       "        text-align: right;\n",
       "    }\n",
       "</style>\n",
       "<table border=\"1\" class=\"dataframe\">\n",
       "  <thead>\n",
       "    <tr style=\"text-align: right;\">\n",
       "      <th></th>\n",
       "      <th>index</th>\n",
       "      <th>count</th>\n",
       "    </tr>\n",
       "  </thead>\n",
       "  <tbody>\n",
       "    <tr>\n",
       "      <th>0</th>\n",
       "      <td>Middle-Age In_a_couple Graduation</td>\n",
       "      <td>348</td>\n",
       "    </tr>\n",
       "    <tr>\n",
       "      <th>1</th>\n",
       "      <td>Middle-Age In_a_couple Post-Graduation</td>\n",
       "      <td>294</td>\n",
       "    </tr>\n",
       "    <tr>\n",
       "      <th>2</th>\n",
       "      <td>Adult In_a_couple Graduation</td>\n",
       "      <td>217</td>\n",
       "    </tr>\n",
       "    <tr>\n",
       "      <th>3</th>\n",
       "      <td>Middle-Age Single Graduation</td>\n",
       "      <td>202</td>\n",
       "    </tr>\n",
       "    <tr>\n",
       "      <th>4</th>\n",
       "      <td>Middle-Age Single Post-Graduation</td>\n",
       "      <td>162</td>\n",
       "    </tr>\n",
       "  </tbody>\n",
       "</table>\n",
       "</div>"
      ],
      "text/plain": [
       "                                    index  count\n",
       "0       Middle-Age In_a_couple Graduation    348\n",
       "1  Middle-Age In_a_couple Post-Graduation    294\n",
       "2            Adult In_a_couple Graduation    217\n",
       "3            Middle-Age Single Graduation    202\n",
       "4       Middle-Age Single Post-Graduation    162"
      ]
     },
     "execution_count": 11,
     "metadata": {},
     "output_type": "execute_result"
    }
   ],
   "source": [
    "# These are the most frequent customer archetypes in our database \n",
    "\n",
    "top_age_mar_edu"
   ]
  },
  {
   "cell_type": "code",
   "execution_count": 35,
   "id": "08496ba5",
   "metadata": {},
   "outputs": [
    {
     "data": {
      "image/png": "[encoded data removed]",
      "text/plain": [
       "<Figure size 640x480 with 1 Axes>"
      ]
     },
     "metadata": {},
     "output_type": "display_data"
    },
    {
     "name": "stdout",
     "output_type": "stream",
     "text": [
      "Top Clients represent 54.97% of All Customers\n"
     ]
    }
   ],
   "source": [
    "# Let's plot a comparison between these top customers type and all clients\n",
    "\n",
    "ame_sum = top_age_mar_edu[\"count\"].sum()\n",
    "customers_sum = len(df)\n",
    "\n",
    "ame_all_comp = pd.DataFrame({\"Clients\": [\"All Customers\", \"Top archetypes\"], \"Count\": [customers_sum, ame_sum]})\n",
    "\n",
    "sns.barplot(x=\"Clients\", y=\"Count\", data=ame_all_comp, palette=\"rocket\")\n",
    "plt.xlabel(\"Customers Type\")\n",
    "plt.ylabel(\"Nº of clients\")\n",
    "plt.title('Top vs All Clients')\n",
    "plt.show()\n",
    "\n",
    "percent_ame_all = round(ame_sum/customers_sum*100, 2)\n",
    "print(f\"Top Clients represent {percent_ame_all}% of All Customers\")"
   ]
  },
  {
   "cell_type": "markdown",
   "id": "43483c2e",
   "metadata": {},
   "source": [
    "- These **5 customer archetypes** represent almost **55% of the population** in our database. That is why we can conclude that they are good profiles to develop our buyer personas."
   ]
  },
  {
   "cell_type": "markdown",
   "id": "2569e27d",
   "metadata": {},
   "source": [
    "<h2 style=\"color: #A4064D;\">Most Frequent Customer Products Preferences</h2>"
   ]
  },
  {
   "cell_type": "code",
   "execution_count": 41,
   "id": "df23925c",
   "metadata": {},
   "outputs": [],
   "source": [
    "# From these archetypes we want to know their preferences about products availables\n",
    "# We are going to define a function for plotting products preferences for the differentes customer's archetypes\n",
    "\n",
    "def products_ranked(df):\n",
    "    products = df[[\"wine_products\",\"fruit_products\",\"meat_products\",\"fish_products\",\"sweet_products\",\"gold_products\"]]\n",
    "    products_list= [\"Wine\", \"Fruit\", \"Meat\", \"Fish\", \"Sweet\", \"Gold\"]\n",
    "    amount_p = []\n",
    "    for col in products.columns:\n",
    "        amount_p.append(products[col].sum())\n",
    "    products_per_amount = pd.DataFrame({\"products\": products_list,\"amount_p\":amount_p})\n",
    "    products_per_amount = products_per_amount.sort_values(by=\"amount_p\", ascending=False)\n",
    "    \n",
    "    sns.barplot(data=products_per_amount, x=\"products\", y=\"amount_p\", palette=\"rocket\")\n",
    "    plt.xlabel(\"Type of Product\")\n",
    "    plt.ylabel(\"Amount Spent\")\n",
    "    plt.title(\"Product Sales Ranking\")\n",
    "    plt.show()"
   ]
  },
  {
   "cell_type": "code",
   "execution_count": 51,
   "id": "8432f37b",
   "metadata": {},
   "outputs": [],
   "source": [
    "# In the following sub-indexes we will work with this functions by filtering our df by the labels of our archetypes"
   ]
  },
  {
   "cell_type": "markdown",
   "id": "a3ebd734",
   "metadata": {},
   "source": [
    "<h3 style=\"color: #6D183F;\">Archetype 1: Middle-Age/In a couple/Graduation preferences</h3>"
   ]
  },
  {
   "cell_type": "code",
   "execution_count": 38,
   "id": "0e5ac91f",
   "metadata": {},
   "outputs": [],
   "source": [
    "df_type1 = df[(df[\"age_group\"] == \"Middle-Age\") & (df[\"marital_status\"] == \"In_a_couple\") & (df[\"education\"] == \"Graduation\")]"
   ]
  },
  {
   "cell_type": "code",
   "execution_count": 42,
   "id": "ad2433aa",
   "metadata": {},
   "outputs": [
    {
     "data": {
      "image/png": "[encoded data removed]",
      "text/plain": [
       "<Figure size 640x480 with 1 Axes>"
      ]
     },
     "metadata": {},
     "output_type": "display_data"
    }
   ],
   "source": [
    "products_ranked(df_type1)"
   ]
  },
  {
   "cell_type": "markdown",
   "id": "cd74f860",
   "metadata": {},
   "source": [
    "- This archetype stands out for its **high predilection** for **Wine** (100000 approx) and **Meat** (60000 approx)"
   ]
  },
  {
   "cell_type": "markdown",
   "id": "0b781001",
   "metadata": {},
   "source": [
    "<h3 style=\"color: #6D183F;\">Archetype 2: Middle-Age/In a couple/Post-Graduation preferences</h3>"
   ]
  },
  {
   "cell_type": "code",
   "execution_count": 43,
   "id": "36fe75d9",
   "metadata": {},
   "outputs": [],
   "source": [
    "df_type2 = df[(df[\"age_group\"] == \"Middle-Age\") & (df[\"marital_status\"] == \"In_a_couple\") & (df[\"education\"] == \"Post-Graduation\")]"
   ]
  },
  {
   "cell_type": "code",
   "execution_count": 44,
   "id": "10df7a2a",
   "metadata": {},
   "outputs": [
    {
     "data": {
      "image/png": "[encoded data removed]",
      "text/plain": [
       "<Figure size 640x480 with 1 Axes>"
      ]
     },
     "metadata": {},
     "output_type": "display_data"
    }
   ],
   "source": [
    "products_ranked(df_type2)"
   ]
  },
  {
   "cell_type": "markdown",
   "id": "74eb9ff5",
   "metadata": {},
   "source": [
    "- This group is very similar in its configuration to the previous one (a higher level of education). The preference for **Wine remains the same**, but the taste for **Meat decreases to about 40,000**"
   ]
  },
  {
   "cell_type": "markdown",
   "id": "b1b03471",
   "metadata": {},
   "source": [
    "<h3 style=\"color: #6D183F;\">Archetype 3: Adult/In a couple/Graduation preferences</h3>"
   ]
  },
  {
   "cell_type": "code",
   "execution_count": 45,
   "id": "844d784f",
   "metadata": {},
   "outputs": [],
   "source": [
    "df_type3 = df[(df[\"age_group\"] == \"Adult\") & (df[\"marital_status\"] == \"In_a_couple\") & (df[\"education\"] == \"Graduation\")]"
   ]
  },
  {
   "cell_type": "code",
   "execution_count": 46,
   "id": "66a9a19a",
   "metadata": {},
   "outputs": [
    {
     "data": {
      "image/png": "[encoded data removed]",
      "text/plain": [
       "<Figure size 640x480 with 1 Axes>"
      ]
     },
     "metadata": {},
     "output_type": "display_data"
    }
   ],
   "source": [
    "products_ranked(df_type3)"
   ]
  },
  {
   "cell_type": "markdown",
   "id": "a16e7bab",
   "metadata": {},
   "source": [
    "- The only \"Adult\" archetype in the top. Its **decrease in Wine** is considerable (less than 50,000). **Meat consumption is similar** to archetype 2"
   ]
  },
  {
   "cell_type": "markdown",
   "id": "130002fa",
   "metadata": {},
   "source": [
    "<h3 style=\"color: #6D183F;\">Archetype 4: Middle-Age/Single/Graduation preferences</h3>"
   ]
  },
  {
   "cell_type": "code",
   "execution_count": 47,
   "id": "6f52ffef",
   "metadata": {},
   "outputs": [],
   "source": [
    "df_type4 = df[(df[\"age_group\"] == \"Middle-Age\") & (df[\"marital_status\"] == \"Single\") & (df[\"education\"] == \"Graduation\")]"
   ]
  },
  {
   "cell_type": "code",
   "execution_count": 48,
   "id": "017afdae",
   "metadata": {},
   "outputs": [
    {
     "data": {
      "image/png": "[encoded data removed]",
      "text/plain": [
       "<Figure size 640x480 with 1 Axes>"
      ]
     },
     "metadata": {},
     "output_type": "display_data"
    }
   ],
   "source": [
    "products_ranked(df_type4)"
   ]
  },
  {
   "cell_type": "markdown",
   "id": "db4fe72c",
   "metadata": {},
   "source": [
    "- The first Single archetype to appear. Very similar in its label composition to archetype 1. His preference for **Wine** is **above 50000** and for **Meat** goes down to **about 30000**. These numbers are equal to **half the statistics of their counterpart** in a relationship. "
   ]
  },
  {
   "cell_type": "markdown",
   "id": "cbbf1065",
   "metadata": {},
   "source": [
    "<h3 style=\"color: #6D183F;\">Archetype 5: Middle-Age/Single/Post-Graduation preferences</h3>"
   ]
  },
  {
   "cell_type": "code",
   "execution_count": 49,
   "id": "98ad06d9",
   "metadata": {},
   "outputs": [],
   "source": [
    "df_type5 = df[(df[\"age_group\"] == \"Middle-Age\") & (df[\"marital_status\"] == \"Single\") & (df[\"education\"] == \"Post-Graduation\")]"
   ]
  },
  {
   "cell_type": "code",
   "execution_count": 50,
   "id": "2808e487",
   "metadata": {},
   "outputs": [
    {
     "data": {
      "image/png": "[encoded data removed]",
      "text/plain": [
       "<Figure size 640x480 with 1 Axes>"
      ]
     },
     "metadata": {},
     "output_type": "display_data"
    }
   ],
   "source": [
    "products_ranked(df_type5)"
   ]
  },
  {
   "cell_type": "markdown",
   "id": "ee259ffe",
   "metadata": {},
   "source": [
    "- Quite similar to archetype 2, changing its status to Single. Compared to his counterpart, being only one person, he **reduces his consumptions to half**. Except for **Wine**: this category is experiencing a **lower decline of 40%**"
   ]
  },
  {
   "cell_type": "markdown",
   "id": "faef7f94",
   "metadata": {},
   "source": [
    "<h2 style=\"color: #A4064D;\">Defining our Buyer Personas</h2>"
   ]
  },
  {
   "cell_type": "code",
   "execution_count": 12,
   "id": "7e203cf3",
   "metadata": {},
   "outputs": [],
   "source": [
    "# Once we have defined our archetypes, we can calculate the average of several variables to better know our Buyer Persona\n",
    "\n",
    "names_ame = top_age_mar_edu[\"index\"].to_list()"
   ]
  },
  {
   "cell_type": "code",
   "execution_count": 13,
   "id": "30e804fb",
   "metadata": {},
   "outputs": [
    {
     "data": {
      "text/plain": [
       "['Middle-Age In_a_couple Graduation',\n",
       " 'Middle-Age In_a_couple Post-Graduation',\n",
       " 'Adult In_a_couple Graduation',\n",
       " 'Middle-Age Single Graduation',\n",
       " 'Middle-Age Single Post-Graduation']"
      ]
     },
     "execution_count": 13,
     "metadata": {},
     "output_type": "execute_result"
    }
   ],
   "source": [
    "names_ame"
   ]
  },
  {
   "cell_type": "code",
   "execution_count": 56,
   "id": "731f877e",
   "metadata": {},
   "outputs": [
    {
     "name": "stdout",
     "output_type": "stream",
     "text": [
      "MIDDLE-AGE IN_A_COUPLE GRADUATION Statistics:\n",
      "\n",
      "Number of clients: 348\n",
      "Age: 55.0\n",
      "Salary: 4370.59 USD/month\n",
      "Children at home: 1.0\n",
      "Max children at home: 3\n",
      "Days since last purchase: 51.0\n",
      "Type of client: Good\n",
      "Total spent amount: 623.0 USD\n",
      "Purchases made: 13.0\n",
      "Deals purchased: 2.0\n",
      "Web visits last month: 5.0\n",
      "Marketing campaigns accepted: 0.0\n",
      "\n",
      "\n",
      "MIDDLE-AGE IN_A_COUPLE POST-GRADUATION Statistics:\n",
      "\n",
      "Number of clients: 294\n",
      "Age: 54.0\n",
      "Salary: 4418.7 USD/month\n",
      "Children at home: 1.0\n",
      "Max children at home: 3\n",
      "Days since last purchase: 47.0\n",
      "Type of client: Good\n",
      "Total spent amount: 566.0 USD\n",
      "Purchases made: 13.0\n",
      "Deals purchased: 3.0\n",
      "Web visits last month: 5.0\n",
      "Marketing campaigns accepted: 0.0\n",
      "\n",
      "\n",
      "ADULT IN_A_COUPLE GRADUATION Statistics:\n",
      "\n",
      "Number of clients: 217\n",
      "Age: 42.0\n",
      "Salary: 3938.33 USD/month\n",
      "Children at home: 1.0\n",
      "Max children at home: 3\n",
      "Days since last purchase: 48.0\n",
      "Type of client: Low\n",
      "Total spent amount: 541.0 USD\n",
      "Purchases made: 11.0\n",
      "Deals purchased: 2.0\n",
      "Web visits last month: 6.0\n",
      "Marketing campaigns accepted: 0.0\n",
      "\n",
      "\n",
      "MIDDLE-AGE SINGLE GRADUATION Statistics:\n",
      "\n",
      "Number of clients: 202\n",
      "Age: 54.0\n",
      "Salary: 4213.31 USD/month\n",
      "Children at home: 1.0\n",
      "Max children at home: 3\n",
      "Days since last purchase: 50.0\n",
      "Type of client: Good\n",
      "Total spent amount: 577.0 USD\n",
      "Purchases made: 12.0\n",
      "Deals purchased: 3.0\n",
      "Web visits last month: 6.0\n",
      "Marketing campaigns accepted: 0.0\n",
      "\n",
      "\n",
      "MIDDLE-AGE SINGLE POST-GRADUATION Statistics:\n",
      "\n",
      "Number of clients: 162\n",
      "Age: 56.0\n",
      "Salary: 4371.08 USD/month\n",
      "Children at home: 1.0\n",
      "Max children at home: 3\n",
      "Days since last purchase: 50.0\n",
      "Type of client: Regular\n",
      "Total spent amount: 642.0 USD\n",
      "Purchases made: 13.0\n",
      "Deals purchased: 2.0\n",
      "Web visits last month: 5.0\n",
      "Marketing campaigns accepted: 0.0\n",
      "\n",
      "\n"
     ]
    }
   ],
   "source": [
    "for i in names_ame:\n",
    "    tags = i.split()\n",
    "    df_ame = df[(df[\"age_group\"] == tags[0]) & (df[\"marital_status\"] == tags[1]) & (df[\"education\"] == tags[2])]\n",
    "    \n",
    "    nclients = len(df_ame)\n",
    "    age = df_ame[\"age\"].median()\n",
    "    salary = round((df_ame[\"income\"].mean())/12,2)\n",
    "    children = df_ame[\"childrenhome\"].mean().round()\n",
    "    max_children = df_ame[\"childrenhome\"].max()\n",
    "    last_purchase = df_ame[\"recency\"].mean().round()\n",
    "    buyer_type = df_ame[\"buyer_type\"].value_counts().index[0]\n",
    "    spent = df_ame[\"total_products\"].mean().round()\n",
    "    purchases = df_ame[\"total_purchases\"].mean().round()\n",
    "    deals = df_ame[\"deal_purchases\"].mean().round()\n",
    "    web = df_ame[\"web_visits_permonth\"].mean().round()\n",
    "    cmp = df_ame[\"total_cmp\"].mean().round()\n",
    "       \n",
    "    print(f\"{i.upper()} Statistics:\")\n",
    "    print(\"\")\n",
    "    print(f\"Number of clients: {nclients}\")\n",
    "    print(f\"Age: {age}\")\n",
    "    print(f\"Salary: {salary} USD/month\")\n",
    "    print(f\"Children at home: {children}\")\n",
    "    print(f\"Max children at home: {max_children}\")\n",
    "    print(f\"Days since last purchase: {last_purchase}\")\n",
    "    print(f\"Type of client: {buyer_type}\")\n",
    "    print(f\"Total spent amount: {spent} USD\")\n",
    "    print(f\"Purchases made: {purchases}\")\n",
    "    print(f\"Deals purchased: {deals}\")\n",
    "    print(f\"Web visits last month: {web}\")\n",
    "    print(f\"Marketing campaigns accepted: {cmp}\")\n",
    "    print(\"\")\n",
    "    print(\"\")   "
   ]
  }
 ],
 "metadata": {
  "kernelspec": {
   "display_name": "Python 3 (ipykernel)",
   "language": "python",
   "name": "python3"
  },
  "language_info": {
   "codemirror_mode": {
    "name": "ipython",
    "version": 3
   },
   "file_extension": ".py",
   "mimetype": "text/x-python",
   "name": "python",
   "nbconvert_exporter": "python",
   "pygments_lexer": "ipython3",
   "version": "3.11.5"
  }
 },
 "nbformat": 4,
 "nbformat_minor": 5
}
